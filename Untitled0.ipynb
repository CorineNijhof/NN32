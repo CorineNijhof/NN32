{
  "nbformat": 4,
  "nbformat_minor": 0,
  "metadata": {
    "colab": {
      "name": "Untitled0.ipynb",
      "provenance": [],
      "toc_visible": true
    },
    "kernelspec": {
      "name": "python3",
      "display_name": "Python 3"
    }
  },
  "cells": [
    {
      "cell_type": "code",
      "metadata": {
        "id": "W8PYUPAwp0Ay",
        "colab_type": "code",
        "colab": {}
      },
      "source": [
        "!pip install pretty_midi\n",
        "!pip install tensorflow\n",
        "!pip install mido\n",
        "import pretty_midi\n",
        "import numpy as np\n",
        "from IPython.display import clear_output\n",
        "import os\n",
        "import tensorflow as tf\n",
        "import keras.models\n",
        "import keras.layers\n",
        "from keras.models import Sequential\n",
        "from keras.layers.core import Dense, Activation, Dropout\n",
        "from mido import Message, MidiFile, MidiTrack, MetaMessage\n",
        "import sys\n",
        "np.set_printoptions(threshold=sys.maxsize)\n",
        "import matplotlib.pyplot as plt\n",
        "clear_output()"
      ],
      "execution_count": null,
      "outputs": []
    },
    {
      "cell_type": "code",
      "metadata": {
        "id": "gq1hmcIi0WGc",
        "colab_type": "code",
        "colab": {}
      },
      "source": [
        "!unzip /content/midi_files.zip\n",
        "data_path = []\n",
        "# Import only relevant midi 4/4 files \n",
        "for song_name in os.listdir(os.path.join('/content/midi_files')):\n",
        "    data_path.append(os.path.join('/content/midi_files', song_name))\n",
        "num_songs = len(data_path)\n",
        "\n",
        "clear_output()"
      ],
      "execution_count": null,
      "outputs": []
    },
    {
      "cell_type": "code",
      "metadata": {
        "id": "4p4jh5BhsOpD",
        "colab_type": "code",
        "colab": {
          "base_uri": "https://localhost:8080/",
          "height": 34
        },
        "outputId": "25dd8af3-f408-4202-9b09-eed760abc8c7"
      },
      "source": [
        "print(num_songs)"
      ],
      "execution_count": null,
      "outputs": [
        {
          "output_type": "stream",
          "text": [
            "21\n"
          ],
          "name": "stdout"
        }
      ]
    },
    {
      "cell_type": "code",
      "metadata": {
        "id": "0OVfV1mkcAST",
        "colab_type": "code",
        "colab": {}
      },
      "source": [
        "#making synthetic data\n",
        "data = np.array([[1, 0, 0, 1, 0, 0]]*5)\n",
        "data = np.append(data, np.array([[0, 0, 0, 0, 0 ,1]]*3), axis=0)\n",
        "data = np.append(data, np.array([[0, 0, 0, 1, 0 ,0]]*5), axis=0)\n",
        "data = np.append(data, np.array([[0, 0, 0, 0, 0 ,1]]*3), axis=0)\n",
        "data = np.append(data, np.array([[0, 1, 0, 1, 0, 0]]*5), axis=0)\n",
        "data = np.append(data, np.array([[0, 0, 0, 0, 0 ,1]]*3), axis=0)\n",
        "data = np.append(data, np.array([[0, 0, 0, 1, 0 ,0]]*5), axis=0)\n",
        "data = np.append(data, np.array([[0, 0, 0, 0, 0 ,1]]*3), axis=0)\n",
        "for i in range(300):\n",
        "  data = np.append(data, np.array([[1, 0, 0, 1, 0, 0]]*5), axis=0)\n",
        "  data = np.append(data, np.array([[0, 0, 0, 0, 0 ,1]]*3), axis=0)\n",
        "  data = np.append(data, np.array([[0, 0, 0, 1, 0 ,0]]*5), axis=0)\n",
        "  data = np.append(data, np.array([[0, 0, 0, 0, 0 ,1]]*3), axis=0)\n",
        "  data = np.append(data, np.array([[0, 1, 0, 1, 0, 0]]*5), axis=0)\n",
        "  data = np.append(data, np.array([[0, 0, 0, 0, 0 ,1]]*3), axis=0)\n",
        "  data = np.append(data, np.array([[0, 0, 0, 1, 0 ,0]]*5), axis=0)\n",
        "  data = np.append(data, np.array([[0, 0, 0, 0, 0 ,1]]*3), axis=0)"
      ],
      "execution_count": null,
      "outputs": []
    },
    {
      "cell_type": "code",
      "metadata": {
        "id": "rxlvBnlIyp18",
        "colab_type": "code",
        "colab": {}
      },
      "source": [
        "''''\n",
        "#drums = [35, 36, 37, 38, 40, 41, 42, 43, 45, 46, 49, 51, 52]\n",
        "35 Acoustic bass drum\n",
        "36 Bass drum\n",
        "37 Snare side stick\n",
        "38 Snare\n",
        "40 Electric snare\n",
        "41 Low floor tom \n",
        "42 Hi-hat closed \n",
        "43 High floor tom\n",
        "45 Low tom \n",
        "46 Hi-hat open \n",
        "49 Crash cymbal \n",
        "51 Ride cymbal \n",
        "52 Chinese cymbal\n",
        "'''\n",
        "# [kick, snare, tom, closed hi-hat, crash, 'silence']\n",
        "# output_drums = [36, 38, 43, 42, 49, None]\n",
        "num_drums = 6\n",
        "\n",
        "def drum2idx(drum):\n",
        "  if (drum == 35 or drum ==36): \n",
        "    return 0\n",
        "  if (drum == 37 or drum == 38 or drum == 40): \n",
        "    return 1\n",
        "  if (drum == 41 or drum == 43 or drum == 45): \n",
        "    return 2\n",
        "  if (drum == 42 or drum == 46):\n",
        "    return 3\n",
        "  if (drum == 49 or drum == 51 or drum == 52): \n",
        "    return 4\n",
        "\n",
        "def idx2drum(idx):\n",
        "  output_drums = [36, 38, 43, 42, 49, None]\n",
        "  return output_drums(idx)\n",
        "\n",
        "\n",
        "def process(data_path):\n",
        "  data = {}\n",
        "  for i in range(len(data_path)):\n",
        "    data[i] = pretty_midi.PrettyMIDI(data_path[i])\n",
        "  midi_processed = {}\n",
        "  for i in range(len(data_path)):\n",
        "    midi_list = []\n",
        "    #Iterate through all instruments (only the drum in these files)\n",
        "    for instrument in data[i].instruments:\n",
        "      for note in instrument.notes: \n",
        "        #Convert the start and end time to tick number. \n",
        "        start = data[i].time_to_tick(note.start)\n",
        "        end = data[i].time_to_tick(note.end)\n",
        "        pitch = drum2idx(note.pitch)\n",
        "      \n",
        "        # volume goes from 1 to 127\n",
        "        volume = (note.velocity)\n",
        "        midi_list.append([start, end, pitch, volume])\n",
        "    midi_processed[i] = np.array(midi_list)\n",
        "  return midi_processed\n",
        "\n",
        "def findNotesAtBeats(tick, song):\n",
        "  line = np.zeros(num_drums, dtype='int')\n",
        "  silence = True\n",
        "  for note in song:\n",
        "    if tick >= note[0] and tick <= note[1]:\n",
        "      line[note[2]] = 1\n",
        "      silence = False\n",
        "  if silence:\n",
        "    line[num_drums-1] = 1\n",
        "  return line\n",
        "\n",
        "# Processed array for each song where each line represents 1/16th of a beat (~0.03125 sec)\n",
        "def compress(midi_processed):\n",
        "  midi = {}\n",
        "  #for i in midi_processed:\n",
        "  for i in midi_processed:\n",
        "    song = midi_processed[i]\n",
        "    new = []\n",
        "    for beat in range(0, midi_processed[i][-1,1],30):\n",
        "      new.append(findNotesAtBeats(beat, song))\n",
        "    midi[i] = np.array(new)\n",
        "  return midi\n",
        "\n",
        "\n",
        "midi_processed = process(data_path)\n",
        "midi = compress(midi_processed)\n",
        "clear_output()"
      ],
      "execution_count": null,
      "outputs": []
    },
    {
      "cell_type": "code",
      "metadata": {
        "id": "MwAMjoKNz7Yq",
        "colab_type": "code",
        "colab": {}
      },
      "source": [
        "print(input[0])\n",
        "train_data = np.array(midi, dtype=\"int\")"
      ],
      "execution_count": null,
      "outputs": []
    },
    {
      "cell_type": "markdown",
      "metadata": {
        "id": "jjxijkyDoXbI",
        "colab_type": "text"
      },
      "source": [
        "# Putting all songs after each other in a big 2D array"
      ]
    },
    {
      "cell_type": "code",
      "metadata": {
        "id": "bKC-obzvzxrn",
        "colab_type": "code",
        "colab": {
          "base_uri": "https://localhost:8080/",
          "height": 51
        },
        "outputId": "cfc8a44f-a78f-4633-dfea-dccca1e1f2bf"
      },
      "source": [
        "def get_length_all_songs(num_songs):\n",
        "  length_all_songs = 0\n",
        "  for x in range(0, num_songs):\n",
        "    length_all_songs += len(midi[x])\n",
        "  return length_all_songs\n",
        "\n",
        "def get_train_data(midi, num_drums, length_all_songs):\n",
        "  train_data = np.zeros([length_all_songs, num_drums], dtype=\"int\")\n",
        "  i = 0\n",
        "  for x in range(0, len(midi)):\n",
        "    for c in range(0, len(midi[x])):\n",
        "      train_data[i] = midi[x][c]\n",
        "      i+=1\n",
        "  return train_data\n",
        "\n",
        "length_all_songs = get_length_all_songs(num_songs)\n",
        "train_data = get_train_data(midi, num_drums, length_all_songs)\n",
        "print(train_data[3])\n",
        "print(train_data.shape)"
      ],
      "execution_count": null,
      "outputs": [
        {
          "output_type": "stream",
          "text": [
            "[1 0 0 1 0 0]\n",
            "(15313, 6)\n"
          ],
          "name": "stdout"
        }
      ]
    },
    {
      "cell_type": "markdown",
      "metadata": {
        "id": "UsQM1GN4rqOG",
        "colab_type": "text"
      },
      "source": [
        "# Getting the data into the right shape for training / testing"
      ]
    },
    {
      "cell_type": "code",
      "metadata": {
        "id": "O3pf5g7gwIJ3",
        "colab_type": "code",
        "colab": {
          "base_uri": "https://localhost:8080/",
          "height": 85
        },
        "outputId": "da4c2f12-8400-4935-f34a-d7eb6129850b"
      },
      "source": [
        "time_steps = 128\n",
        "num_drums = num_drums\n",
        "#this is the number of future vectors that are predicted\n",
        "num_future_vector = 4\n",
        "length_all_songs = len(train_data)\n",
        "#length of the output vector of the network\n",
        "future_pred = num_drums * num_future_vector\n",
        "cut = int(len(train_data)*0.8)\n",
        "num_samples = int(cut/time_steps)\n",
        "trainX = np.zeros([num_samples, time_steps, num_drums], dtype = \"int\")\n",
        "trainY = np.zeros([num_samples, future_pred], dtype = \"int\")\n",
        "tick = 0\n",
        "for idx in range(0,num_samples):\n",
        "  for step in range(0,time_steps):\n",
        "    trainX[idx][step] = train_data[tick]\n",
        "    tick += 1\n",
        "  for i in range(0,num_future_vector):\n",
        "    if i == 0:\n",
        "      dummy = train_data[tick]\n",
        "    else:\n",
        "      dummy  = np.append(dummy, train_data[tick])\n",
        "    tick += 1\n",
        "  trainY[idx] = dummy\n",
        "  dummy = []\n",
        "  if tick > cut - time_steps - num_future_vector:\n",
        "    break\n",
        "num_samples = int((length_all_songs - cut) /time_steps)\n",
        "testX = np.zeros([num_samples, time_steps, num_drums], dtype = \"int\")\n",
        "testY = np.zeros([num_samples, future_pred], dtype = \"int\")\n",
        "tick = cut\n",
        "for idx in range(0,num_samples):\n",
        "  for step in range(0,time_steps):\n",
        "    testX[idx][step] = train_data[tick]\n",
        "    tick += 1\n",
        "  for i in range(0, num_future_vector):\n",
        "    if i == 0:\n",
        "      dummy = train_data[tick]\n",
        "    else:\n",
        "      dummy  = np.append(dummy, train_data[tick])\n",
        "    tick += 1\n",
        "  testY[idx] = dummy\n",
        "  dummy = []\n",
        "  if tick > length_all_songs - time_steps - num_future_vector:\n",
        "    break\n",
        "print(trainX.shape)\n",
        "print(trainY.shape)\n",
        "#print(trainX[3])\n",
        "#print(trainY[3])\n",
        "print(testX.shape)\n",
        "print(testY.shape)"
      ],
      "execution_count": null,
      "outputs": [
        {
          "output_type": "stream",
          "text": [
            "(95, 128, 6)\n",
            "(95, 24)\n",
            "(23, 128, 6)\n",
            "(23, 24)\n"
          ],
          "name": "stdout"
        }
      ]
    },
    {
      "cell_type": "code",
      "metadata": {
        "id": "cDTAQ0aVIwjz",
        "colab_type": "code",
        "colab": {}
      },
      "source": [
        "print(trainX[10])"
      ],
      "execution_count": null,
      "outputs": []
    },
    {
      "cell_type": "markdown",
      "metadata": {
        "id": "YW4ZrvM2r1TB",
        "colab_type": "text"
      },
      "source": [
        "# Model and training\n",
        "\n",
        "rerun when you change parameter above"
      ]
    },
    {
      "cell_type": "code",
      "metadata": {
        "id": "tsJ032YiwTbN",
        "colab_type": "code",
        "colab": {
          "base_uri": "https://localhost:8080/",
          "height": 34
        },
        "outputId": "7bab288d-8b15-406a-89db-1bbca864978f"
      },
      "source": [
        "print(len(trainY))"
      ],
      "execution_count": null,
      "outputs": [
        {
          "output_type": "stream",
          "text": [
            "133\n"
          ],
          "name": "stdout"
        }
      ]
    },
    {
      "cell_type": "code",
      "metadata": {
        "id": "ADKLag_QqUC9",
        "colab_type": "code",
        "colab": {}
      },
      "source": [
        "dataset_train = tf.data.Dataset.from_tensor_slices((trainX.astype('float32'), trainY.astype('float32'))).shuffle((len(trainY))).batch(len(trainY))\n",
        "dataset_test = tf.data.Dataset.from_tensor_slices((testX.astype('float32'), testY.astype('float32'))).shuffle((len(testY))).batch(len(testY))"
      ],
      "execution_count": null,
      "outputs": []
    },
    {
      "cell_type": "code",
      "metadata": {
        "id": "HXUj2CJhqT9B",
        "colab_type": "code",
        "colab": {}
      },
      "source": [
        "class DENSE_model(tf.keras.Model):\n",
        "  def __init__(self):\n",
        "    super(DENSE_model, self).__init__()\n",
        "    self.layersNetwork = tf.keras.models.Sequential([\n",
        "                                             tf.keras.layers.Flatten(),\n",
        "                                             #tf.keras.layers.Dense(500, activation='relu'),\n",
        "                                             tf.keras.layers.Dense(1000, activation='relu'),\n",
        "                                             tf.keras.layers.Dense(700, activation='relu'),\n",
        "                                             tf.keras.layers.Dense(500, activation='relu'),\n",
        "                                             tf.keras.layers.Dense(300, activation='relu'),\n",
        "                                             tf.keras.layers.Dense(100, activation='relu'),\n",
        "                                             tf.keras.layers.Dense(future_pred, activation='softmax'),\n",
        "    ])\n",
        "    \n",
        "  def run(self, input):\n",
        "    output = self.layersNetwork(input)\n",
        "    return output\n"
      ],
      "execution_count": null,
      "outputs": []
    },
    {
      "cell_type": "code",
      "metadata": {
        "id": "Ax-MXE55telr",
        "colab_type": "code",
        "colab": {}
      },
      "source": [
        "optimizer = tf.keras.optimizers.Adam()\n",
        "train_loss = tf.keras.metrics.Mean(name='train_loss')\n",
        "test_loss = tf.keras.metrics.Mean(name='test_loss')"
      ],
      "execution_count": null,
      "outputs": []
    },
    {
      "cell_type": "code",
      "metadata": {
        "id": "nCly87UbrtcN",
        "colab_type": "code",
        "colab": {}
      },
      "source": [
        "def caclulate_loss(Model, x, y):\n",
        "  output = Model.run(input = x)\n",
        "\n",
        "  loss = tf.keras.losses.categorical_crossentropy(y, output)\n",
        "  return loss"
      ],
      "execution_count": null,
      "outputs": []
    },
    {
      "cell_type": "code",
      "metadata": {
        "id": "MmKyM_asqT8A",
        "colab_type": "code",
        "colab": {}
      },
      "source": [
        "def train_step(Model, x, y, optimizer):\n",
        "  with tf.GradientTape() as tape:\n",
        "    loss = caclulate_loss(Model, x, y)\n",
        "    gradients = tape.gradient(loss, Model.trainable_variables)\n",
        "    optimizer.apply_gradients(zip(gradients, Model.trainable_variables))\n",
        "    train_loss(loss)\n",
        "def test_step(Model, x, y):\n",
        "  loss = caclulate_loss(Model, x, y)\n",
        "  test_loss(loss)"
      ],
      "execution_count": null,
      "outputs": []
    },
    {
      "cell_type": "code",
      "metadata": {
        "id": "OTjKm5RwqT62",
        "colab_type": "code",
        "colab": {}
      },
      "source": [
        "def train_dataset(Model, dataset_train, dataset_test, epochs):\n",
        "  loss_train = []\n",
        "  loss_test = []\n",
        "  epoch_number = []\n",
        "  for epoch in range(epochs):\n",
        "    print(epoch)\n",
        "    for train_x, train_y in dataset_train:\n",
        "      train_step(Model, train_x, train_y, optimizer)\n",
        "\n",
        "    for test_x, test_y in dataset_test:\n",
        "      test_step(Model, test_x, test_y)\n",
        "\n",
        "    clear_output()\n",
        "    loss_train.append(train_loss.result())\n",
        "    loss_test.append(test_loss.result())\n",
        "    epoch_number.append(epoch)\n",
        "    plt.plot(epoch_number, loss_train, loss_test)\n",
        "    plt.legend(['train', 'test'])\n",
        "    plt.show()\n",
        "  train_loss.reset_states()\n",
        "  test_loss.reset_states()"
      ],
      "execution_count": null,
      "outputs": []
    },
    {
      "cell_type": "code",
      "metadata": {
        "id": "PUyemQ4CqT40",
        "colab_type": "code",
        "colab": {}
      },
      "source": [
        "Mymodel = DENSE_model()"
      ],
      "execution_count": null,
      "outputs": []
    },
    {
      "cell_type": "code",
      "metadata": {
        "id": "qetzjGjrqT0Q",
        "colab_type": "code",
        "colab": {
          "base_uri": "https://localhost:8080/",
          "height": 265
        },
        "outputId": "8f9696cf-0036-4c00-8dcb-5bba43691779"
      },
      "source": [
        "train_dataset(Mymodel, dataset_train, dataset_test, 30)"
      ],
      "execution_count": null,
      "outputs": [
        {
          "output_type": "display_data",
          "data": {
            "image/png": "[encoded data removed]",
            "text/plain": [
              "<Figure size 432x288 with 1 Axes>"
            ]
          },
          "metadata": {
            "tags": [],
            "needs_background": "light"
          }
        }
      ]
    },
    {
      "cell_type": "markdown",
      "metadata": {
        "id": "37DsVmJjr-kS",
        "colab_type": "text"
      },
      "source": [
        "# Generation\n",
        "Generates output by running the network / always adding predicted elements to the sequence and then generating new predictions based on the sequence with added elements"
      ]
    },
    {
      "cell_type": "code",
      "metadata": {
        "id": "f3OqbaHnrC1K",
        "colab_type": "code",
        "colab": {}
      },
      "source": [
        "#testing the network / getting predictions\n",
        "from numpy.random import uniform\n",
        "generated_sequence = np.zeros([1,time_steps,num_drums], dtype = \"int\")\n",
        "vector_for_tick = np.zeros(num_drums,dtype =\"int\")\n",
        "output_length = 300\n",
        "output = np.zeros([1, num_drums], dtype = 'int')\n",
        "#let generated sequence be some time_steps long sequence/this sequence is used to start the generating process\n",
        "generated_sequence[0] = trainX[10]\n",
        "for c in range(0, output_length):\n",
        "  prediction = Mymodel.run(generated_sequence)\n",
        "  #print(prediction)\n",
        "\n",
        "  #shift generated sequence back by how many future vectors are predicted so that the generated once can be added\n",
        "  for i in range(0,time_steps-num_future_vector):\n",
        "    generated_sequence[0][i] = generated_sequence[0][i+num_future_vector]\n",
        "  #This code always takes the probabilities in prediction and converts it to vectors which are then added\n",
        "  #to the generated_sequence and output\n",
        "  counter = 0\n",
        "  sequence_idx = 0\n",
        "  for idx in range(0,future_pred):\n",
        "    #depending on how many future vectors you predict you need to change the threshold\n",
        "    #good way of doing it is looking at the probabilities in predction and checking what \n",
        "    #value makes sense\n",
        "    threshold = 0.4\n",
        "    if prediction[0][idx] > threshold:\n",
        "      vector_for_tick[counter] = 1\n",
        "    else:\n",
        "      vector_for_tick[counter] = 0\n",
        "    counter += 1\n",
        "    #everytime the end of one vector of length num_drums is reached add that vector to generated_sequence\n",
        "    #so that it is used to predict next predicition\n",
        "    #also append that vector to output and after doing that reset the vector to all 0\n",
        "    if counter == num_drums:\n",
        "      generated_sequence[0][(time_steps - num_future_vector) + sequence_idx] = vector_for_tick\n",
        "      #print(generated_sequence)\n",
        "      sequence_idx += 1\n",
        "      output = np.append(output, [vector_for_tick], axis=0)\n",
        "      vector_for_tick.fill(0)\n",
        "      counter = 0\n",
        "print(output)\n"
      ],
      "execution_count": null,
      "outputs": []
    },
    {
      "cell_type": "code",
      "metadata": {
        "id": "Rtxgr_MnzQMG",
        "colab_type": "code",
        "colab": {}
      },
      "source": [
        "#cell if wanna check how the training data actually sounds like\n",
        "output = trainX[10]"
      ],
      "execution_count": null,
      "outputs": []
    },
    {
      "cell_type": "markdown",
      "metadata": {
        "id": "4h3nrxfwn0t3",
        "colab_type": "text"
      },
      "source": [
        "# Constructing midi files based on output array"
      ]
    },
    {
      "cell_type": "code",
      "metadata": {
        "id": "e6ZrRb1LTwFA",
        "colab_type": "code",
        "colab": {}
      },
      "source": [
        "\n",
        "def t2notes(t):\n",
        "    drums = [36, 38, 43, 42, 49, None] #note numbers for the drums\n",
        "    notes = []\n",
        "    for i in range (num_drums-1): #-1 because the last index doesn't represent a drum\n",
        "        if t[i] == 1:\n",
        "            notes.append(drums[i])\n",
        "    #notes will be empty if there's silence\n",
        "    return notes\n",
        "\n",
        "def constructMidi(output, tickTime):\n",
        "    mid = MidiFile()\n",
        "    track = MidiTrack()\n",
        "    mid.tracks.append(track)\n",
        "    track.append(MetaMessage('set_tempo', tempo=468750))\n",
        "    track.append(MetaMessage('time_signature', numerator=4, denominator=4, clocks_per_click=24, notated_32nd_notes_per_beat=8, time=0))\n",
        "    track.append(MetaMessage('key_signature', key='C', time=0))\n",
        "    track.append(Message('program_change', channel=9, program = 0, time=0))\n",
        "    counter = 0 #to add up equal timeframes to one beat instead of multiple equal drums\n",
        "    ts = output[0]\n",
        "    for t in output:\n",
        "        #print(t)\n",
        "        if (t == ts).all():\n",
        "            counter += tickTime\n",
        "            ts = t\n",
        "        else:\n",
        "            notes = t2notes(ts)\n",
        "            for note in notes:\n",
        "              track.append(Message('note_on', channel=9, note=note, velocity=64, time=0))\n",
        "            track.append(Message('note_on', channel=9, note=1, velocity=0, time=counter))\n",
        "            for note in notes:\n",
        "              track.append(Message('note_on', channel=9, note=note, velocity=0, time=0))\n",
        "            #print(notes)\n",
        "            counter = tickTime\n",
        "            ts = t\n",
        "    notes = t2notes(ts)\n",
        "    for note in notes:\n",
        "      track.append(Message('note_on', channel=9, note=note, velocity=64, time=0))\n",
        "    track.append(Message('note_on', channel=9, note=1, velocity=0, time=counter))\n",
        "    for note in notes:\n",
        "      track.append(Message('note_on', channel=9, note=note, velocity=0, time=0))\n",
        "    mid.save('output.mid')\n",
        "  \n",
        "constructMidi(output, 31) #call this to convert output tensor to midi file, and specify ms per tick"
      ],
      "execution_count": null,
      "outputs": []
    }
  ]
}